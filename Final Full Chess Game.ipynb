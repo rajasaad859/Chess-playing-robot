{
 "cells": [
  {
   "cell_type": "markdown",
   "id": "0735ebec-cb3c-4a94-8133-1d33e5e7d1a7",
   "metadata": {},
   "source": [
    "# Final Full Chess Game"
   ]
  },
  {
   "cell_type": "markdown",
   "id": "eadb8885-dcff-4760-8e99-1e9e8068219e",
   "metadata": {},
   "source": [
    "# Importing Libraries"
   ]
  },
  {
   "cell_type": "code",
   "execution_count": 2,
   "id": "5ba94247-12a9-48aa-9365-a89ccaf34587",
   "metadata": {},
   "outputs": [],
   "source": [
    "import math\n",
    "import operator\n",
    "import sys\n",
    "import pickle\n",
    "from collections import defaultdict\n",
    "import tensorflow as tf\n",
    "from glob import glob\n",
    "import random\n",
    "import string\n",
    "import serial\n",
    "import struct\n",
    "from time import sleep\n",
    "import h5py\n",
    "import cython\n",
    "from image_slicer import slice\n",
    "    \n",
    "import cv2\n",
    "load = cv2.imread\n",
    "save = cv2.imwrite\n",
    "    \n",
    "import scipy.spatial as spatial\n",
    "import scipy.cluster as clstr\n",
    "    \n",
    "import sklearn\n",
    "    \n",
    "import os, shutil\n",
    "import numpy as np\n",
    "import matplotlib.pyplot as plt\n",
    "import matplotlib.gridspec as gridspec\n",
    "    \n",
    "from tensorflow import keras \n",
    "from keras.preprocessing import image\n",
    "from keras.preprocessing.image import load_img\n",
    "from keras.models import load_model\n",
    "from keras.applications.xception import preprocess_input\n",
    "from keras.preprocessing.image import ImageDataGenerator\n",
    "keras.backend.set_learning_phase(0)\n",
    "    \n",
    "import chess\n",
    "import chess.engine\n",
    "import chess.svg\n",
    "# import chess.uci\n",
    "    \n",
    "from misc.config import *\n",
    "from misc.utils import ImageObject, save_corners\n",
    "from misc.slid import pSLID, SLID, slid_tendency\n",
    "\n",
    "# from tensorflow.keras.optimizers import RMSprop\n",
    "from misc.laps import LAPS                       \n",
    "from misc.llr import LLR, llr_pad \n",
    "\n",
    "from misc import utils\n",
    "\n",
    "from IPython.core.interactiveshell import InteractiveShell"
   ]
  },
  {
   "cell_type": "markdown",
   "id": "876ed978-b422-4583-b939-7c6830d31efb",
   "metadata": {},
   "source": [
    "## Constants Defined"
   ]
  },
  {
   "cell_type": "code",
   "execution_count": 14,
   "id": "4d51c3ea-8fa3-40ad-a03d-0c0a02116103",
   "metadata": {},
   "outputs": [],
   "source": [
    "HEIGHT = 150\n",
    "WIDTH = 150\n",
    "IMAGE_DIMS = (150, 150)\n",
    "\n",
    "MODEL_LOC1 = '/misc/data/models/laps.h5'\n",
    "MODEL_LOC2 = \"/Model/saved_models/trained_model_final_bs32_225_dg_6.h5\"\n",
    "\n",
    "CHESS_ENGINE_PATH = \"F:/Github/stockfish_14.1_win_x64_avx2/stockfish_14.1_win_x64_avx2.exe\"\n",
    "\n",
    "ARDUINO_PORT = 'COM4'\n",
    "\n",
    "IP = 'http://192.168.29.227:8080/video'"
   ]
  },
  {
   "cell_type": "markdown",
   "id": "fc80e3d1-f60c-4a43-881e-4f84aaf874bc",
   "metadata": {},
   "source": [
    "## Utility Functions"
   ]
  },
  {
   "cell_type": "code",
   "execution_count": null,
   "id": "c75b16c4-489e-4019-9785-ca54ca52c8cd",
   "metadata": {},
   "outputs": [],
   "source": [
    "def show_img(img):\n",
    "    img = cv2.resize(img, (700, 700))\n",
    "    cv2.imshow(\"Image\", img)\n",
    "    cv2.waitKey(0)\n",
    "    cv2.destroyAllWindows()\n",
    "        \n",
    "def adjust_gamma(image, gamma=1.5):\n",
    "    invGamma = 1.0 / gamma\n",
    "    table = np.array([((i / 255.0) ** invGamma) * 255\n",
    "        for i in np.arange(0, 256)]).astype(\"uint8\")\n",
    "    \n",
    "    return cv2.LUT(image, table)"
   ]
  },
  {
   "cell_type": "markdown",
   "id": "8cf140d7-0169-496d-8494-b501ab5b6981",
   "metadata": {},
   "source": [
    "# Board Array and FEN Notation Generation"
   ]
  },
  {
   "cell_type": "code",
   "execution_count": null,
   "id": "92c75fda-d280-427e-b8d8-973e9eaf5d45",
   "metadata": {},
   "outputs": [],
   "source": [
    "def generate_board_arr1(img_number):\n",
    "        \n",
    "    row = [\"H\", \"G\", \"F\", \"E\", \"D\", \"C\", \"B\", \"A\"]\n",
    "    col = [\"8\", \"7\", \"6\", \"5\", \"4\", \"3\", \"2\", \"1\"]\n",
    "        \n",
    "    a = 1\n",
    "    b = 1\n",
    "        \n",
    "    matrix = []\n",
    "\n",
    "    for r in range(0, 8):\n",
    "        matrix.append([0 for c in range(0, 8)])\n",
    "\n",
    "        \n",
    "    arr = np.zeros((8, 8))\n",
    "        \n",
    "    an_array = np.full([8, 8], None)\n",
    "        \n",
    "    slice(\"chess-playing-robot/During Game/04 Picture Selected From Model 1/\"+str(img_number)+\".png\" , 64)\n",
    "        \n",
    "    for j in row:\n",
    "        b=1\n",
    "        for k in col:\n",
    "            os.rename(\"chess-playing-robot/During Game/04 Picture Selected From Model 1/\"+str(img_number)+\"_0\" + str(a) + \"_0\"+ str(b) +\".png\",\"chess-playing-robot/During Game/05 Model 2 Output/\" + j + k +\".png\")\n",
    "            b += 1\n",
    "        a += 1\n",
    "        \n",
    "    a = 0\n",
    "    b = 0\n",
    "        \n",
    "    row = [\"A\", \"B\", \"C\", \"D\", \"E\", \"F\", \"G\", \"H\"]\n",
    "    col = [\"8\", \"7\", \"6\", \"5\", \"4\", \"3\", \"2\", \"1\"]\n",
    "        \n",
    "    for j in col:\n",
    "        a = 0\n",
    "        for k in row:\n",
    "            img = image.load_img(\"chess-playing-robot/During Game/05 Model 2 Output/\" + k + j + \".png\", target_size=(HEIGHT, WIDTH))\n",
    "                \n",
    "            img = np.reshape(img,(1,150,150,3))\n",
    "            # print(img.shape)\n",
    "\n",
    "            y = model1.predict_classes(img)\n",
    "            print(y)\n",
    "\n",
    "            if y==0:\n",
    "                classes='E'\n",
    "            elif y==1:\n",
    "                classes='B'\n",
    "            elif y==2:\n",
    "                classes='K'\n",
    "            elif y==3:\n",
    "                classes='N'\n",
    "            elif y==4:\n",
    "                classes='P'\n",
    "            elif y==5:\n",
    "                classes='Q'\n",
    "            elif y==6:\n",
    "                classes='R'\n",
    "            elif y==7:\n",
    "                classes='b'\n",
    "            elif y==8:\n",
    "                classes='k'\n",
    "            elif y==9:\n",
    "                classes='n'\n",
    "            elif y==10:\n",
    "                classes='p'\n",
    "            elif y==11:\n",
    "                classes='q'\n",
    "            else:\n",
    "                classes='r'\n",
    "\n",
    "            an_array[b][a] = classes\n",
    "                \n",
    "            a += 1\n",
    "        b += 1\n",
    "    return an_array\n",
    "\n",
    "def fen_data_generation(new_board_arr):        \n",
    "    fen=\"\"\n",
    "    count1=0\n",
    "    count2=0\n",
    "        \n",
    "    for r in new_board_arr:\n",
    "        s=\"\"\n",
    "        count1=count1+1;\n",
    "        count2=0;\n",
    "        for c in r:\n",
    "            if c=='E':\n",
    "                count2=count2+1;\n",
    "            else:\n",
    "                if count2!=0:\n",
    "                    s=s+str(count2);\n",
    "                s=s+c;\n",
    "                count2=0;\n",
    "        if count2!=0:\n",
    "            s=s+str(count2);\n",
    "        if count1!=1:\n",
    "            fen=fen+'/'+s\n",
    "        else:\n",
    "            fen=fen+s\n",
    "    fen=fen+' b - - 0 0'\n",
    "    return fen"
   ]
  },
  {
   "cell_type": "markdown",
   "id": "64d385eb-6d13-4cfc-b1d1-eae9379587f1",
   "metadata": {},
   "source": [
    "# Take Board Pictures and Pass Trough Model"
   ]
  },
  {
   "cell_type": "code",
   "execution_count": null,
   "id": "2a4f5162-eec2-4552-93ff-72e93bb77b96",
   "metadata": {},
   "outputs": [],
   "source": [
    "def saveBoardImage():\n",
    "    a=0\n",
    "    count=1\n",
    "    cam = cv2.VideoCapture(IP)\n",
    "       \n",
    "    while count < 6:\n",
    "        # Get current frame\n",
    "        ret, img = cam.read()\n",
    "        cv2.namedWindow('Board Image',cv2.WINDOW_NORMAL)\n",
    "        cv2.imshow(\"Board Image\", img)\n",
    "        \n",
    "        key = cv2.waitKey(1)\n",
    "\n",
    "        if key % 256 == 27: #ESC Pressed\n",
    "            break\n",
    "\n",
    "        elif key % 56 == 32: #SPACE Pressed\n",
    "            for a in range(0, 5):\n",
    "                file='chess-playing-robot/During Game/01 Original Image/' + str(count) + '.png'\n",
    "\n",
    "                cv2.imwrite(file, img)\n",
    "                count += 1\n",
    "                sleep(1)\n",
    "\n",
    "    # Release the object\n",
    "    cam.release()\n",
    "\n",
    "    # Close the window\n",
    "    cv2.destroyAllWindows()\n",
    "\n",
    "    \n",
    "def passSavedImageToModel():\n",
    "    \n",
    "    count = 1\n",
    "    \n",
    "    perceptLayer = PerceptionLayer(model)\n",
    "    \n",
    "    while count <= 5:\n",
    "        board_img = cv2.imread(\"chess-playing-robot/During Game/01 Original Image/\"+ str(count) + \".png\")\n",
    "\n",
    "        try:\n",
    "            perceptLayer.detect(board_img)\n",
    "        except:\n",
    "            count += 1\n",
    "            continue\n",
    "        else:\n",
    "            img = cv2.imread(\"chess-playing-robot/3.png\")\n",
    "            \n",
    "            img = cv2.resize(img, (700, 700))\n",
    "            cv2.imshow(\"Board Image\", img)\n",
    "            \n",
    "            key = cv2.waitKey(0)\n",
    "            \n",
    "            if key % 256 == 27: #ESC Pressed\n",
    "                print (\"REJECTED\")\n",
    "                count += 1\n",
    "                continue\n",
    "        \n",
    "            elif key % 56 == 32: #SPACE Pressed\n",
    "                print (\"ACCEPTED\")\n",
    "                os.rename(\"chess-playing-robot/1.png\", \"chess-playing-robot/During Game/02 Model 1 Output 1/1.png\")\n",
    "                os.rename(\"chess-playing-robot/2.png\", \"chess-playing-robot/During Game/03 Model 1 Output 2/1.png\")\n",
    "                os.rename(\"chess-playing-robot/3.png\", \"chess-playing-robot/During Game/04 Picture Selected From Model 1/1.png\")\n",
    "                count = 5\n",
    "                break\n",
    "\n",
    "        count += 1\n",
    "        \n",
    "    cv2.destroyAllWindows()\n",
    "    \n",
    "\n",
    "def rotateImage():\n",
    "    \n",
    "    os.rename(\"chess-playing-robot/During Game/04 Picture Selected From Model 1/1.png\", \"chess-playing-robot/During Game/04 Picture Selected From Model 1/2.png\")\n",
    "    path = r'chess-playing-robot/During Game/04 Picture Selected From Model 1/2.png'\n",
    "    src = cv2.imread(path)\n",
    "    image = cv2.rotate(src, cv2.ROTATE_180)\n",
    "    \n",
    "    file='chess-playing-robot/During Game/04 Picture Selected From Model 1/1.png'\n",
    "    cv2.imwrite(file, image)\n",
    "    os.remove(\"chess-playing-robot/During Game/04 Picture Selected From Model 1/2.png\")"
   ]
  },
  {
   "cell_type": "markdown",
   "id": "7beaa9ba-ae42-44f3-9b95-313f986cb267",
   "metadata": {},
   "source": [
    "# Delete Files"
   ]
  },
  {
   "cell_type": "code",
   "execution_count": null,
   "id": "18dd3208-a923-4de4-bedb-e0e75a13a73d",
   "metadata": {},
   "outputs": [],
   "source": [
    "def deleteFiles():\n",
    "    a = 0\n",
    "    b = 0\n",
    "        \n",
    "    row = [\"A\", \"B\", \"C\", \"D\", \"E\", \"F\", \"G\", \"H\"]\n",
    "    col = [\"8\", \"7\", \"6\", \"5\", \"4\", \"3\", \"2\", \"1\"]\n",
    "        \n",
    "    for j in col:\n",
    "        a = 0\n",
    "        for k in row:\n",
    "            os.remove(\"chess-playing-robot/During Game/05 Model 2 Output/\" + k + j + \".png\")\n",
    "    \n",
    "    os.remove(\"chess-playing-robot/During Game/01 Original Image/1.png\")\n",
    "    os.remove(\"chess-playing-robot/During Game/01 Original Image/2.png\")\n",
    "    os.remove(\"chess-playing-robot/During Game/01 Original Image/3.png\")\n",
    "    os.remove(\"chess-playing-robot/During Game/01 Original Image/4.png\")\n",
    "    os.remove(\"chess-playing-robot/During Game/01 Original Image/5.png\")\n",
    "    \n",
    "    os.remove(\"chess-playing-robot/During Game/02 Model 1 Output 1/1.png\")\n",
    "    os.remove(\"chess-playing-robot/During Game/03 Model 1 Output 2/1.png\")\n",
    "    os.remove(\"chess-playing-robot/During Game/04 Picture Selected From Model 1/1.png\")"
   ]
  },
  {
   "cell_type": "markdown",
   "id": "e073e499-a88a-407e-9723-913af8bf987e",
   "metadata": {},
   "source": [
    "# Check Square Availability"
   ]
  },
  {
   "cell_type": "code",
   "execution_count": null,
   "id": "1e194e3f-c356-4e74-8c01-3b6741cddcd1",
   "metadata": {},
   "outputs": [],
   "source": [
    "def checkDestAvailability(squareName):    \n",
    "    \n",
    "    img = image.load_img(\"chess-playing-robot/During Game/05 Model 2 Output/\" + squareName + \".png\", target_size=(HEIGHT, WIDTH))\n",
    "    \n",
    "    img = np.reshape(img,(1,150,150,3))\n",
    "\n",
    "    y = model1.predict_classes(img)\n",
    "\n",
    "    if y==0:\n",
    "         return '0'\n",
    "    else:\n",
    "        return '1'"
   ]
  },
  {
   "cell_type": "markdown",
   "id": "dcb2b711-41c7-4d2a-9fd8-383b12a66529",
   "metadata": {},
   "source": [
    "# Reading Angles From File"
   ]
  },
  {
   "cell_type": "code",
   "execution_count": 12,
   "id": "e19a9d8f-9d24-46d3-a64f-ad25ce5cf066",
   "metadata": {},
   "outputs": [],
   "source": [
    "AllAngles = [None] * 0\n",
    "\n",
    "with open(\"Arm Movement\\Angles.txt\", \"r\") as file:\n",
    " \n",
    "    for line in file:\n",
    "     \n",
    "        for word in line.split():\n",
    "            \n",
    "            AllAngles.append(word)"
   ]
  },
  {
   "cell_type": "markdown",
   "id": "f6613faf-e7bb-436f-897f-0fdbb0f7a68f",
   "metadata": {},
   "source": [
    "## Getting Specific Angle "
   ]
  },
  {
   "cell_type": "code",
   "execution_count": null,
   "id": "5ba71057-7880-49df-aa8c-b2d2f8974ff4",
   "metadata": {},
   "outputs": [],
   "source": [
    "def getSouceAnglesFromFile(SquareName):\n",
    "    \n",
    "    count1 = 0\n",
    "    \n",
    "    Angle1 = 0 \n",
    "    Angle2 = 0\n",
    "    Angle3 = 0\n",
    "    Angle4 = 0\n",
    "\n",
    "    for word in AllAngles:\n",
    "        if word == SquareName:\n",
    "            count1 += 1\n",
    "            continue\n",
    "\n",
    "        if count1 == 1:\n",
    "            Angle1 = word\n",
    "            count1 += 1\n",
    "            continue\n",
    "\n",
    "        if count1 == 2:\n",
    "            Angle2 = word\n",
    "            count1 += 1\n",
    "            continue\n",
    "\n",
    "        if count1 == 3:\n",
    "            Angle3 = word\n",
    "            count1 += 1\n",
    "            continue\n",
    "\n",
    "        if count1 == 4:\n",
    "            Angle4 = word\n",
    "            count1 += 1\n",
    "            continue\n",
    "    ReqAngle = [Angle1, Angle2, Angle3, Angle4]\n",
    "    \n",
    "    return ReqAngle"
   ]
  },
  {
   "cell_type": "markdown",
   "id": "cd8da70c-f207-4864-b583-f9b9944069e8",
   "metadata": {},
   "source": [
    "## Perception Layer"
   ]
  },
  {
   "cell_type": "markdown",
   "id": "279b39d2-d8cd-424d-959b-e2debe42b49b",
   "metadata": {},
   "source": [
    "### Core Functions"
   ]
  },
  {
   "cell_type": "code",
   "execution_count": null,
   "id": "d15b1a84-c2b6-4ce0-8b26-9cd316a5a537",
   "metadata": {},
   "outputs": [],
   "source": [
    "class PerceptionLayer:\n",
    "\n",
    "    def __init__(self, model):\n",
    "        \n",
    "        self.model = model\n",
    "\n",
    "    def layer(self):\n",
    "        global NC_LAYER, NC_IMAGE\n",
    "\n",
    "        segments = pSLID(NC_IMAGE['main'])\n",
    "        raw_lines = SLID(NC_IMAGE['main'], segments)\n",
    "        lines = slid_tendency(raw_lines)\n",
    "        points = LAPS(NC_IMAGE['main'], lines)\n",
    "        inner_points = LLR(NC_IMAGE['main'], points, lines)\n",
    "        four_points = llr_pad(inner_points, NC_IMAGE['main'])\n",
    "\n",
    "        try:\n",
    "            NC_IMAGE.crop(four_points)\n",
    "            save(str(NC_LAYER) + \".png\", NC_IMAGE['orig'])\n",
    "\n",
    "        except:\n",
    "            utils.warn(\"Next layer is not needed\")\n",
    "            NC_IMAGE.crop(inner_points)\n",
    "\n",
    "        print(\"\\n\")\n",
    "\n",
    "\n",
    "    def detect(self, image):\n",
    "        global NC_LAYER, NC_IMAGE, NC_CONFIG\n",
    "\n",
    "        NC_IMAGE, NC_LAYER = ImageObject(image), 0\n",
    "        for _ in range(NC_CONFIG['layers']):\n",
    "            NC_LAYER += 1\n",
    "            self.layer()\n",
    "\n",
    "        #show_img(NC_IMAGE['orig'])\n",
    "        return NC_IMAGE['orig']"
   ]
  },
  {
   "cell_type": "markdown",
   "id": "40bee37f-79ef-40a8-8425-518e72e5d7d2",
   "metadata": {},
   "source": [
    "### Loading and Testing Model\""
   ]
  },
  {
   "cell_type": "markdown",
   "id": "794c1039-8706-4d82-81f3-87e5547c0d2d",
   "metadata": {},
   "source": [
    "#### Prediction Functions"
   ]
  },
  {
   "cell_type": "code",
   "execution_count": null,
   "id": "e46c84fe-2fea-429e-b552-46a6e2fb42bf",
   "metadata": {},
   "outputs": [],
   "source": [
    "def predict(model, img):\n",
    "    x = image.img_to_array(img)\n",
    "    x = np.expand_dims(x, axis=0)\n",
    "    x = preprocess_input(x)\n",
    "    preds = model.predict(x)\n",
    "    return preds[0]\n",
    "    \n",
    "def plot_preds(img, preds):\n",
    "    gs = gridspec.GridSpec(2, 1, height_ratios=[4, 1])\n",
    "    plt.figure(figsize=(8, 8))\n",
    "    plt.subplot(gs[0])\n",
    "    plt.imshow(np.asarray(img))\n",
    "    plt.subplot(gs[1])\n",
    "    plt.barh(range(0, CLASSES), preds, alpha=0.5)\n",
    "    plt.yticks(range(0, CLASSES), LABELS)\n",
    "    plt.xlabel('Probability')\n",
    "    plt.xlim(0, 1)\n",
    "    plt.tight_layout()\n",
    "        \n",
    "def get_pred(preds, labels):\n",
    "    index_of_max = np.argmax(preds)\n",
    "    return labels[index_of_max]"
   ]
  },
  {
   "cell_type": "markdown",
   "id": "c99dc628-426b-47ea-ab83-efaf3fda5ed4",
   "metadata": {},
   "source": [
    "#### Load Model"
   ]
  },
  {
   "cell_type": "code",
   "execution_count": null,
   "id": "0b307800-49b2-4df8-96d1-547a3009ec3f",
   "metadata": {},
   "outputs": [],
   "source": [
    "model = tf.keras.models.load_model(MODEL_LOC1)\n",
    "model1 = tf.keras.models.load_model(MODEL_LOC2)"
   ]
  },
  {
   "cell_type": "markdown",
   "id": "30a396af-cda8-455d-920e-a82b254a44a2",
   "metadata": {},
   "source": [
    "# Loading Chess Engine"
   ]
  },
  {
   "cell_type": "code",
   "execution_count": null,
   "id": "ecda24b2-a0a3-4430-913d-d6eefcfd846e",
   "metadata": {},
   "outputs": [],
   "source": [
    "# engine = chess.engine.SimpleEngine.popen_uci(CHESS_ENGINE_PATH)"
   ]
  },
  {
   "cell_type": "markdown",
   "id": "aef21f37-25f7-41a9-ba66-e2dd44d6378f",
   "metadata": {},
   "source": [
    "## Controller Layer"
   ]
  },
  {
   "cell_type": "code",
   "execution_count": null,
   "id": "3c72e1ee-0721-4f5d-8c28-cb8c9a182985",
   "metadata": {},
   "outputs": [],
   "source": [
    "class ControllerLayer:\n",
    "\n",
    "    def __init__(self, arduino):\n",
    "\n",
    "        self.__arduino = arduino\n",
    "\n",
    "    def send_to_arduino(self, capturing, angle1, angle2):\n",
    "\n",
    "        self.__arduino.write(struct.pack('>BBBBBBBBB', int(capturing), int(angle1[0]), int(angle1[1]), int(angle1[2]),\n",
    "                                         int(angle1[3]), int(angle2[0]), int(angle2[1]), int(angle2[2]),\n",
    "                                         int(angle2[3])))"
   ]
  },
  {
   "cell_type": "markdown",
   "id": "f4bc0e6c-0a3b-47f2-9d85-09062e09e886",
   "metadata": {},
   "source": [
    "## Full Game Execution"
   ]
  },
  {
   "cell_type": "code",
   "execution_count": null,
   "id": "0363d3d9-d618-4616-8cfa-ea405251c089",
   "metadata": {},
   "outputs": [],
   "source": [
    "# Initalize Controller layer\n",
    "arduino = serial.Serial(ARDUINO_PORT, 9600)\n",
    "controlLayer = ControllerLayer(arduino)\n",
    "\n",
    "# Initalize Perception Layer\n",
    "perceptLayer = PerceptionLayer(model)"
   ]
  },
  {
   "cell_type": "markdown",
   "id": "af68a61d-2eaa-44b6-9199-19637dec376e",
   "metadata": {},
   "source": [
    "# Step By Step Execution"
   ]
  },
  {
   "cell_type": "markdown",
   "id": "8c061521-1ea8-4b61-ab65-6085bfb8a8cf",
   "metadata": {},
   "source": [
    "### Capturing Image And generation Fen Notation"
   ]
  },
  {
   "cell_type": "code",
   "execution_count": null,
   "id": "c61d352f-fbfc-4668-a5a4-2ada2a39751a",
   "metadata": {},
   "outputs": [],
   "source": [
    "file_name = 1\n",
    "capturing = 0\n",
    "    \n",
    "engine = chess.engine.SimpleEngine.popen_uci(CHESS_ENGINE_PATH)\n",
    "\n",
    "saveBoardImage()\n",
    "passSavedImageToModel()\n",
    "rotateImage()\n",
    "    \n",
    "board_array = generate_board_arr1(file_name)\n",
    "\n",
    "fen_notation = fen_data_generation(board_array)\n",
    "\n",
    "board = chess.Board(fen_notation)"
   ]
  },
  {
   "cell_type": "markdown",
   "id": "a7d7eb00-bea4-4fa4-97d1-dd4331cb0188",
   "metadata": {
    "tags": []
   },
   "source": [
    "### Checking what the Model has predicte"
   ]
  },
  {
   "cell_type": "code",
   "execution_count": null,
   "id": "683d4bd7-a5ff-4d88-ad77-dd0f0bd3252c",
   "metadata": {
    "tags": []
   },
   "outputs": [],
   "source": [
    "board_array"
   ]
  },
  {
   "cell_type": "code",
   "execution_count": null,
   "id": "700aafb0-1236-4a76-937a-5910bcb08744",
   "metadata": {
    "tags": []
   },
   "outputs": [],
   "source": [
    "chess.svg.board(board, size=350)"
   ]
  },
  {
   "cell_type": "markdown",
   "id": "d2acd4ce-68f4-4fee-9996-8de64ec91adf",
   "metadata": {},
   "source": [
    "### Generating Counter Move"
   ]
  },
  {
   "cell_type": "code",
   "execution_count": null,
   "id": "e1eb009f-b59c-4607-ba67-5036fe4326c1",
   "metadata": {},
   "outputs": [],
   "source": [
    "result = engine.play(board, chess.engine.Limit(time=3))\n",
    "print(result.move)"
   ]
  },
  {
   "cell_type": "markdown",
   "id": "bb3a7640-d35f-4403-a690-f2e4eb0f79a5",
   "metadata": {},
   "source": [
    "### Pushing counter Move on the Board"
   ]
  },
  {
   "cell_type": "code",
   "execution_count": null,
   "id": "882e7c60-a61e-4d2c-8660-9c8d5f9919f1",
   "metadata": {},
   "outputs": [],
   "source": [
    "board.push(result.move)\n",
    "chess.svg.board(board, size=350)"
   ]
  },
  {
   "cell_type": "markdown",
   "id": "110494c0-7fad-4945-85e8-6481ff0c888f",
   "metadata": {},
   "source": [
    "### Getting the Squares Names"
   ]
  },
  {
   "cell_type": "code",
   "execution_count": null,
   "id": "255f1820-7703-47c5-98cd-2aaed9137f45",
   "metadata": {},
   "outputs": [],
   "source": [
    "squares = str(result.move)\n",
    "\n",
    "Square = list(map(''.join, zip(*[iter(squares)]*2)))"
   ]
  },
  {
   "cell_type": "markdown",
   "id": "3e3207b6-31a4-4bf4-8e3f-5968bf4b16ec",
   "metadata": {},
   "source": [
    "### Getting angles of the two Square"
   ]
  },
  {
   "cell_type": "code",
   "execution_count": null,
   "id": "e6e9db24-5b58-4316-bd43-858a5c8d9834",
   "metadata": {},
   "outputs": [],
   "source": [
    "Angles1 = getSouceAnglesFromFile(Square[0].upper())\n",
    "Angles1"
   ]
  },
  {
   "cell_type": "code",
   "execution_count": null,
   "id": "ea2529a7-fcf7-4164-ab1c-779c9aed4f22",
   "metadata": {},
   "outputs": [],
   "source": [
    "Angles2 = getSouceAnglesFromFile(Square[1].upper())\n",
    "Angles2"
   ]
  },
  {
   "cell_type": "markdown",
   "id": "b4aa1025-858c-40c1-807c-b0de68988503",
   "metadata": {},
   "source": [
    "### Checking if the destination square available"
   ]
  },
  {
   "cell_type": "code",
   "execution_count": null,
   "id": "cd56f131-df31-4e6b-85c8-fcbdc1e53e53",
   "metadata": {},
   "outputs": [],
   "source": [
    "capturing = checkDestAvailability(Square[1].upper())\n",
    "print(capturing)"
   ]
  },
  {
   "cell_type": "markdown",
   "id": "bfa67427-73b0-45ca-9ca8-51381a77f002",
   "metadata": {},
   "source": [
    "### Sending angles to aruino to execute the move"
   ]
  },
  {
   "cell_type": "code",
   "execution_count": null,
   "id": "dc36b050-b714-4cf4-a4f9-e970f24c6bc5",
   "metadata": {},
   "outputs": [],
   "source": [
    "deleteFiles()\n",
    "\n",
    "controlLayer.send_to_arduino(capturing,Angles1,Angles2)\n",
    "    \n",
    "engine.quit()"
   ]
  },
  {
   "cell_type": "code",
   "execution_count": null,
   "id": "25a37f9e-3376-4d8d-8fee-77843acdc661",
   "metadata": {},
   "outputs": [],
   "source": [
    "arduino.close()"
   ]
  },
  {
   "cell_type": "markdown",
   "id": "34fec0c5-c214-49c7-8e1b-37962cade54c",
   "metadata": {},
   "source": [
    "# Full Game Execution in Loop"
   ]
  },
  {
   "cell_type": "code",
   "execution_count": null,
   "id": "402736e7-ebbb-464b-8bcc-ba5b0f7ed9cc",
   "metadata": {},
   "outputs": [],
   "source": [
    "file_name = 1\n",
    "capturing = 0\n",
    "    \n",
    "# Initalize Perception Layer\n",
    "perceptLayer = PerceptionLayer(model)\n",
    "\n",
    "# sleep(5)\n",
    "\n",
    "while True:\n",
    "    \n",
    "    engine = chess.engine.SimpleEngine.popen_uci(CHESS_ENGINE_PATH)\n",
    "\n",
    "    saveBoardImage()\n",
    "    passSavedImageToModel()\n",
    "    rotateImage()\n",
    "\n",
    "    board_array = generate_board_arr1(file_name)\n",
    "\n",
    "    fen_notation = fen_data_generation(board_array)\n",
    "\n",
    "    board = chess.Board(fen_notation)\n",
    "\n",
    "    chess.svg.board(board, size=350)\n",
    "\n",
    "    result = engine.play(board, chess.engine.Limit(time=3))\n",
    "    squares = str(result.move)\n",
    "\n",
    "    Square = list(map(''.join, zip(*[iter(squares)]*2)))\n",
    "\n",
    "    Angles1 = getSouceAnglesFromFile(Square[0].upper())\n",
    "    Angles2 = getSouceAnglesFromFile(Square[1].upper())\n",
    "\n",
    "    capturing = checkDestAvailability(Square[1].upper())\n",
    "    \n",
    "    sleep(5)\n",
    "    \n",
    "    deleteFiles()\n",
    "\n",
    "    controlLayer.send_to_arduino(capturing,Angles1,Angles2)\n",
    "    \n",
    "    engine.quit()\n",
    "        \n",
    "\n",
    "arduino.close()"
   ]
  },
  {
   "cell_type": "markdown",
   "id": "31c949a2-6347-44ab-94b4-e91ae58f4f5f",
   "metadata": {},
   "source": [
    "# Dataset Creation Script"
   ]
  },
  {
   "cell_type": "markdown",
   "id": "2a969797-f52d-4ea1-bee1-698b110616c1",
   "metadata": {},
   "source": [
    "# Taking 5 images and Passing them to Model"
   ]
  },
  {
   "cell_type": "code",
   "execution_count": null,
   "id": "330f24c1-1abc-4fcc-be9d-1b98875a93e4",
   "metadata": {},
   "outputs": [],
   "source": [
    "def takeBoardImage():\n",
    "    \n",
    "    a=0\n",
    "    cam = cv2.VideoCapture(IP)\n",
    "    count3 = 1\n",
    "\n",
    "    while True:\n",
    "        count=1\n",
    "        count2 = 1\n",
    "        while count < 6:\n",
    "            # Get current frame\n",
    "            ret, img = cam.read()\n",
    "            cv2.namedWindow('Board Image',cv2.WINDOW_NORMAL)\n",
    "            cv2.imshow(\"Board Image\", img)\n",
    "\n",
    "            key = cv2.waitKey(1)\n",
    "\n",
    "            if key % 256 == 27: #ESC Pressed\n",
    "                break\n",
    "\n",
    "            elif key % 56 == 32: #SPACE Pressed\n",
    "                for a in range(0, 5):\n",
    "                    file='chess-playing-robot/Model/All new Dataset/train 5/01 Original Pic/' + str(count) + '.png'\n",
    "\n",
    "                    cv2.imwrite(file, img)\n",
    "                    count += 1\n",
    "                    sleep(0.7)\n",
    "\n",
    "        # Close the window\n",
    "        cv2.destroyAllWindows()\n",
    "\n",
    "\n",
    "        perceptLayer = PerceptionLayer(model)\n",
    "        count2 = 1\n",
    "\n",
    "        while count2 <= 5:\n",
    "            board_img = cv2.imread(\"chess-playing-robot/Model/All new Dataset/train 5/01 Original Pic/\"+ str(count2) + \".png\")\n",
    "\n",
    "            try:\n",
    "                perceptLayer.detect(board_img)\n",
    "            except:\n",
    "                count2 += 1\n",
    "                continue\n",
    "            else:\n",
    "                img = cv2.imread(\"chess-playing-robot/3.png\")\n",
    "\n",
    "                img = cv2.resize(img, (700, 700))\n",
    "                cv2.imshow(\"Board Image\", img)\n",
    "\n",
    "                key = cv2.waitKey(0)\n",
    "\n",
    "                if key % 256 == 27: #ESC Pressed\n",
    "                    print (\"REJECTED\")\n",
    "                    count2 += 1\n",
    "                    continue\n",
    "\n",
    "                elif key % 56 == 32: #SPACE Pressed\n",
    "                    print (\"ACCEPTED\")\n",
    "                    # os.rename(\"chess-playing-robot/1.png\", \"chess-playing-robot/During Game/02 Model 1 Output 1/1.png\")\n",
    "                    # os.rename(\"chess-playing-robot/2.png\", \"chess-playing-robot/During Game/03 Model 1 Output 2/1.png\")\n",
    "                    os.rename(\"chess-playing-robot/3.png\", \"chess-playing-robot/Model/All new Dataset/train 5/02 Selected ChessBoard/\"+str(count3)+\".png\")\n",
    "                    count3 +=1\n",
    "                    count2 = 5\n",
    "                    break\n",
    "                \n",
    "            count2 += 1\n",
    "        os.remove(\"chess-playing-robot/Model/All new Dataset/train 5/01 Original Pic/1.png\")\n",
    "        os.remove(\"chess-playing-robot/Model/All new Dataset/train 5/01 Original Pic/2.png\")\n",
    "        os.remove(\"chess-playing-robot/Model/All new Dataset/train 5/01 Original Pic/3.png\")\n",
    "        os.remove(\"chess-playing-robot/Model/All new Dataset/train 5/01 Original Pic/4.png\")\n",
    "        os.remove(\"chess-playing-robot/Model/All new Dataset/train 5/01 Original Pic/5.png\")\n",
    "        cv2.destroyAllWindows()"
   ]
  },
  {
   "cell_type": "code",
   "execution_count": null,
   "id": "bad4711e-6e2d-432f-b38d-840c59ccf9e4",
   "metadata": {},
   "outputs": [],
   "source": [
    "def takeBoardImage():\n",
    "    \n",
    "    a=0\n",
    "    cam = cv2.VideoCapture(IP)\n",
    "    count3 = 1\n",
    "\n",
    "    while True:\n",
    "        count2 = 1\n",
    "        # Get current frame\n",
    "        ret, img = cam.read()\n",
    "        cv2.namedWindow('Board Image',cv2.WINDOW_NORMAL)\n",
    "        cv2.imshow(\"Board Image\", img)\n",
    "\n",
    "        key = cv2.waitKey(1)\n",
    "\n",
    "        if key % 256 == 27: #ESC Pressed\n",
    "            break\n",
    "\n",
    "        elif key % 56 == 32: #SPACE Pressed\n",
    "            file='chess-playing-robot/Model/All new Dataset/train 5/01 Original Pic/' + str(count) + '.png'\n",
    "\n",
    "            cv2.imwrite(file, img)\n",
    "\n",
    "        # Close the window\n",
    "        cv2.destroyAllWindows()\n",
    "\n",
    "\n",
    "        perceptLayer = PerceptionLayer(model)\n",
    "\n",
    "        board_img = cv2.imread(\"chess-playing-robot/Model/All new Dataset/train 5/01 Original Pic/1.png\")\n",
    "\n",
    "        try:\n",
    "            perceptLayer.detect(board_img)\n",
    "        except:\n",
    "            break\n",
    "        else:\n",
    "            img = cv2.imread(\"chess-playing-robot/3.png\")\n",
    "\n",
    "            img = cv2.resize(img, (700, 700))\n",
    "            cv2.imshow(\"Board Image\", img)\n",
    "\n",
    "            key = cv2.waitKey(0)\n",
    "\n",
    "            if key % 256 == 27: #ESC Pressed\n",
    "                break\n",
    "\n",
    "            elif key % 56 == 32: #SPACE Pressed\n",
    "                print (\"ACCEPTED\")\n",
    "                # os.rename(\"chess-playing-robot/1.png\", \"chess-playing-robot/During Game/02 Model 1 Output 1/1.png\")\n",
    "                # os.rename(\"chess-playing-robot/2.png\", \"chess-playing-robot/During Game/03 Model 1 Output 2/1.png\")\n",
    "                os.rename(\"chess-playing-robot/3.png\", \"chess-playing-robot/Model/All new Dataset/train 5/02 Selected ChessBoard/700 (\"+str(count3)+\").png\")\n",
    "                count3 +=1\n",
    "                count2 = 5\n",
    "                break\n",
    "                \n",
    "        os.remove(\"chess-playing-robot/Model/All new Dataset/train 5/01 Original Pic/1.png\")\n",
    "        # os.remove(\"chess-playing-robot/Model/All new Dataset/train 5/01 Original Pic/2.png\")\n",
    "        # os.remove(\"chess-playing-robot/Model/All new Dataset/train 5/01 Original Pic/3.png\")\n",
    "        # os.remove(\"chess-playing-robot/Model/All new Dataset/train 5/01 Original Pic/4.png\")\n",
    "        # os.remove(\"chess-playing-robot/Model/All new Dataset/train 5/01 Original Pic/5.png\")\n",
    "        cv2.destroyAllWindows()\n",
    "        \n",
    "# def deleteFiles_1():\n",
    "    \n",
    "#     os.remove(\"chess-playing-robot/Model/All new Dataset/train 5/01 Original Pic/1.png\")\n",
    "#     os.remove(\"chess-playing-robot/Model/All new Dataset/train 5/01 Original Pic/2.png\")\n",
    "#     os.remove(\"chess-playing-robot/Model/All new Dataset/train 5/01 Original Pic/3.png\")\n",
    "#     os.remove(\"chess-playing-robot/Model/All new Dataset/train 5/01 Original Pic/4.png\")\n",
    "#     os.remove(\"chess-playing-robot/Model/All new Dataset/train 5/01 Original Pic/5.png\")"
   ]
  },
  {
   "cell_type": "code",
   "execution_count": null,
   "id": "3cdfb96f-30b5-452b-89cb-9b82d22cbba7",
   "metadata": {},
   "outputs": [],
   "source": [
    "file_name = 1\n",
    "\n",
    "while file_name <= 194:\n",
    "    \n",
    "    slice(\"chess-playing-robot/Model/All new Dataset/train 5/Slices/700 (\" + str(file_name) + \").png\", 64)\n",
    "    file_name += 1"
   ]
  },
  {
   "cell_type": "code",
   "execution_count": null,
   "id": "6cc8bc6e-88b7-444f-80af-a4d298e45730",
   "metadata": {},
   "outputs": [],
   "source": [
    "takeBoardImage()"
   ]
  },
  {
   "cell_type": "code",
   "execution_count": null,
   "id": "a0644308-de57-4e8d-9a3b-65b0e27817c9",
   "metadata": {},
   "outputs": [],
   "source": [
    "cam = cv2.VideoCapture(IP)\n",
    "names = 1\n",
    "\n",
    "while True:\n",
    "    ret, board_img = cam.read()\n",
    "    \n",
    "    cv2.namedWindow('Board Image',cv2.WINDOW_NORMAL)\n",
    "    cv2.imshow(\"Board Image\", board_img)\n",
    "\n",
    "    key = cv2.waitKey(1)\n",
    "        \n",
    "    if key % 256 == 27: #ESC Pressed\n",
    "        break\n",
    "        \n",
    "    elif key % 56 == 32: #SPACE Pressed\n",
    "            \n",
    "        # board_img = adjust_image(board_img)\n",
    "        # cv2.imwrite('img1.png', board_img)\n",
    "        # show_img(board_img)\n",
    "        save(\"chess-playing-robot/Model/All new Dataset/train 5/01 Original Pic/\"+ str(names) + \".png\", board_img)\n",
    "        names += 1\n",
    "\n",
    "cam.release()\n",
    "cv2.destroyAllWindows()"
   ]
  },
  {
   "cell_type": "code",
   "execution_count": null,
   "id": "cb5bfdd4-22cb-42b9-953d-d4ce278140af",
   "metadata": {},
   "outputs": [],
   "source": [
    "perceptLayer = PerceptionLayer(model)\n",
    "file_name = 56\n",
    "\n",
    "while file_name <= 121:\n",
    "\n",
    "    board_img = cv2.imread(\"chess-playing-robot/Model/All new Dataset/train 5/01 Original Pic/\"+ str(file_name) + \".png\")\n",
    "    \n",
    "    cv2.namedWindow('Board Image',cv2.WINDOW_NORMAL)\n",
    "    cv2.imshow(\"Board Image\", board_img)\n",
    "    \n",
    "    try:\n",
    "        perceptLayer.detect(board_img)\n",
    "    except:\n",
    "        file_name += 1\n",
    "        break\n",
    "    else:\n",
    "        # os.rename(\"chess-playing-robot/1.png\", \"chess-playing-robot/During Game/02 Model 1 Output 1/\" + str(file_name) + \".png\")\n",
    "        # os.rename(\"chess-playing-robot/2.png\", \"chess-playing-robot/During Game/03 Model 1 Output 2/\" + str(file_name) + \".png\")\n",
    "        os.rename(\"chess-playing-robot/3.png\", \"chess-playing-robot/Model/All new Dataset/train 5/02 Selected ChessBoard/\" + str(file_name) + \".png\")\n",
    "        file_name += 1\n",
    "\n",
    "cv2.destroyAllWindows()"
   ]
  },
  {
   "cell_type": "code",
   "execution_count": null,
   "id": "8a908114-9e2f-481e-869f-7f3cd2b2e72d",
   "metadata": {},
   "outputs": [],
   "source": [
    "slice(\"chess-playing-robot/During Game/2.png\",64)"
   ]
  }
 ],
 "metadata": {
  "kernelspec": {
   "display_name": "chess88",
   "language": "python",
   "name": "chess88"
  },
  "language_info": {
   "codemirror_mode": {
    "name": "ipython",
    "version": 3
   },
   "file_extension": ".py",
   "mimetype": "text/x-python",
   "name": "python",
   "nbconvert_exporter": "python",
   "pygments_lexer": "ipython3",
   "version": "3.7.11"
  }
 },
 "nbformat": 4,
 "nbformat_minor": 5
}
