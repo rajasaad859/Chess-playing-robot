{
 "cells": [
  {
   "cell_type": "code",
   "execution_count": null,
   "metadata": {
    "colab": {
     "base_uri": "https://localhost:8080/",
     "height": 222
    },
    "colab_type": "code",
    "executionInfo": {
     "elapsed": 98926,
     "status": "ok",
     "timestamp": 1549193114654,
     "user": {
      "displayName": "Harsh Patel",
      "photoUrl": "https://lh4.googleusercontent.com/-xVEOvhAYCwI/AAAAAAAAAAI/AAAAAAAAAAc/m8NWBboPeYY/s64/photo.jpg",
      "userId": "17018506043059870013"
     },
     "user_tz": -330
    },
    "id": "EwDVm3m-A2zc",
    "outputId": "1551a942-b314-4faa-b2f8-361973c242b0"
   },
   "outputs": [],
   "source": [
    "import os\n",
    "print(os.getcwd())"
   ]
  },
  {
   "cell_type": "code",
   "execution_count": null,
   "metadata": {
    "colab": {},
    "colab_type": "code",
    "id": "9w15dc6-BJhJ"
   },
   "outputs": [],
   "source": [
    "os.chdir('Dataset')"
   ]
  },
  {
   "cell_type": "code",
   "execution_count": null,
   "metadata": {
    "colab": {
     "base_uri": "https://localhost:8080/",
     "height": 34
    },
    "colab_type": "code",
    "executionInfo": {
     "elapsed": 824,
     "status": "ok",
     "timestamp": 1549195084438,
     "user": {
      "displayName": "Harsh Patel",
      "photoUrl": "https://lh4.googleusercontent.com/-xVEOvhAYCwI/AAAAAAAAAAI/AAAAAAAAAAc/m8NWBboPeYY/s64/photo.jpg",
      "userId": "17018506043059870013"
     },
     "user_tz": -330
    },
    "id": "jOHbh_IQBhCZ",
    "outputId": "9f31aa31-2cbb-43aa-ebe4-8f7c7bff6024",
    "scrolled": true
   },
   "outputs": [],
   "source": [
    "print(os.getcwd())"
   ]
  },
  {
   "cell_type": "code",
   "execution_count": null,
   "metadata": {
    "colab": {
     "base_uri": "https://localhost:8080/",
     "height": 162
    },
    "colab_type": "code",
    "executionInfo": {
     "elapsed": 1998,
     "status": "error",
     "timestamp": 1549195074943,
     "user": {
      "displayName": "Harsh Patel",
      "photoUrl": "https://lh4.googleusercontent.com/-xVEOvhAYCwI/AAAAAAAAAAI/AAAAAAAAAAc/m8NWBboPeYY/s64/photo.jpg",
      "userId": "17018506043059870013"
     },
     "user_tz": -330
    },
    "id": "52jddDUmBn9C",
    "outputId": "c28e3ab7-1631-4c2a-983b-09222705ea5e"
   },
   "outputs": [],
   "source": [
    "!ls"
   ]
  },
  {
   "cell_type": "markdown",
   "metadata": {
    "colab": {
     "base_uri": "https://localhost:8080/",
     "height": 162
    },
    "colab_type": "code",
    "executionInfo": {
     "elapsed": 1998,
     "status": "error",
     "timestamp": 1549195074943,
     "user": {
      "displayName": "Harsh Patel",
      "photoUrl": "https://lh4.googleusercontent.com/-xVEOvhAYCwI/AAAAAAAAAAI/AAAAAAAAAAc/m8NWBboPeYY/s64/photo.jpg",
      "userId": "17018506043059870013"
     },
     "user_tz": -330
    },
    "id": "52jddDUmBn9C",
    "outputId": "c28e3ab7-1631-4c2a-983b-09222705ea5e"
   },
   "source": [
    "# Importing Libraries"
   ]
  },
  {
   "cell_type": "code",
   "execution_count": null,
   "metadata": {
    "colab": {
     "base_uri": "https://localhost:8080/",
     "height": 34
    },
    "colab_type": "code",
    "executionInfo": {
     "elapsed": 861,
     "status": "ok",
     "timestamp": 1549195088664,
     "user": {
      "displayName": "Harsh Patel",
      "photoUrl": "https://lh4.googleusercontent.com/-xVEOvhAYCwI/AAAAAAAAAAI/AAAAAAAAAAc/m8NWBboPeYY/s64/photo.jpg",
      "userId": "17018506043059870013"
     },
     "user_tz": -330
    },
    "id": "PpiCsU-aCb0b",
    "outputId": "63b98d60-50e0-414f-bb99-81021a711c32"
   },
   "outputs": [],
   "source": [
    "from __future__ import print_function\n",
    "import keras\n",
    "from keras.models import Sequential\n",
    "from keras.layers import Dense, Dropout, Flatten, Activation\n",
    "from keras.layers.normalization import BatchNormalization\n",
    "from keras.layers import Conv1D, Conv2D, MaxPooling2D, MaxPooling1D\n",
    "from keras import backend as K\n",
    "import h5py\n",
    "import numpy as np\n",
    "import scipy.io as sio\n",
    "import matplotlib.pyplot as plt"
   ]
  },
  {
   "cell_type": "markdown",
   "metadata": {
    "colab": {
     "base_uri": "https://localhost:8080/",
     "height": 101
    },
    "colab_type": "code",
    "executionInfo": {
     "elapsed": 2931,
     "status": "ok",
     "timestamp": 1549195092554,
     "user": {
      "displayName": "Harsh Patel",
      "photoUrl": "https://lh4.googleusercontent.com/-xVEOvhAYCwI/AAAAAAAAAAI/AAAAAAAAAAc/m8NWBboPeYY/s64/photo.jpg",
      "userId": "17018506043059870013"
     },
     "user_tz": -330
    },
    "id": "84WiYC0FCeHJ",
    "outputId": "6f11a35b-3371-4ba5-fa1e-96451acc43c5"
   },
   "source": [
    "# Defining Constants"
   ]
  },
  {
   "cell_type": "code",
   "execution_count": null,
   "metadata": {
    "colab": {
     "base_uri": "https://localhost:8080/",
     "height": 101
    },
    "colab_type": "code",
    "executionInfo": {
     "elapsed": 2931,
     "status": "ok",
     "timestamp": 1549195092554,
     "user": {
      "displayName": "Harsh Patel",
      "photoUrl": "https://lh4.googleusercontent.com/-xVEOvhAYCwI/AAAAAAAAAAI/AAAAAAAAAAc/m8NWBboPeYY/s64/photo.jpg",
      "userId": "17018506043059870013"
     },
     "user_tz": -330
    },
    "id": "84WiYC0FCeHJ",
    "outputId": "6f11a35b-3371-4ba5-fa1e-96451acc43c5"
   },
   "outputs": [],
   "source": [
    "batch_size = 32\n",
    "num_classes = 13\n",
    "epochs = 225"
   ]
  },
  {
   "cell_type": "markdown",
   "metadata": {
    "colab": {
     "base_uri": "https://localhost:8080/",
     "height": 101
    },
    "colab_type": "code",
    "executionInfo": {
     "elapsed": 2931,
     "status": "ok",
     "timestamp": 1549195092554,
     "user": {
      "displayName": "Harsh Patel",
      "photoUrl": "https://lh4.googleusercontent.com/-xVEOvhAYCwI/AAAAAAAAAAI/AAAAAAAAAAc/m8NWBboPeYY/s64/photo.jpg",
      "userId": "17018506043059870013"
     },
     "user_tz": -330
    },
    "id": "84WiYC0FCeHJ",
    "outputId": "6f11a35b-3371-4ba5-fa1e-96451acc43c5"
   },
   "source": [
    "# Loadin MATLAB File"
   ]
  },
  {
   "cell_type": "code",
   "execution_count": null,
   "metadata": {
    "colab": {},
    "colab_type": "code",
    "id": "tbWa8HFBCfOD"
   },
   "outputs": [],
   "source": [
    "trainset = {}\n",
    "trainset = sio.loadmat('chess_train_final.mat')\n",
    "print(\"trainset size X:\", trainset['X'].shape)\n",
    "print(\"trainset size Y:\", trainset['Y'].shape)"
   ]
  },
  {
   "cell_type": "code",
   "execution_count": null,
   "metadata": {
    "colab": {},
    "colab_type": "code",
    "id": "jnjgvWdaCxwk"
   },
   "outputs": [],
   "source": [
    "trainset['X'] = np.rollaxis(trainset['X'], axis = 3)"
   ]
  },
  {
   "cell_type": "code",
   "execution_count": null,
   "metadata": {
    "colab": {
     "base_uri": "https://localhost:8080/",
     "height": 50
    },
    "colab_type": "code",
    "executionInfo": {
     "elapsed": 2424,
     "status": "ok",
     "timestamp": 1549195099888,
     "user": {
      "displayName": "Harsh Patel",
      "photoUrl": "https://lh4.googleusercontent.com/-xVEOvhAYCwI/AAAAAAAAAAI/AAAAAAAAAAc/m8NWBboPeYY/s64/photo.jpg",
      "userId": "17018506043059870013"
     },
     "user_tz": -330
    },
    "id": "BnbtkZPvDEUO",
    "outputId": "3497ff1a-1a3e-4d1c-db71-456eb7fb93f0"
   },
   "outputs": [],
   "source": [
    "print('Trainset size X:',trainset['X'].shape)\n",
    "print('Trainset size Y:',trainset['Y'].shape)"
   ]
  },
  {
   "cell_type": "code",
   "execution_count": null,
   "metadata": {
    "colab": {},
    "colab_type": "code",
    "id": "VVr0j79oDO63"
   },
   "outputs": [],
   "source": [
    "label = trainset['Y']"
   ]
  },
  {
   "cell_type": "code",
   "execution_count": null,
   "metadata": {
    "colab": {
     "base_uri": "https://localhost:8080/",
     "height": 50
    },
    "colab_type": "code",
    "executionInfo": {
     "elapsed": 882,
     "status": "ok",
     "timestamp": 1549195101666,
     "user": {
      "displayName": "Harsh Patel",
      "photoUrl": "https://lh4.googleusercontent.com/-xVEOvhAYCwI/AAAAAAAAAAI/AAAAAAAAAAc/m8NWBboPeYY/s64/photo.jpg",
      "userId": "17018506043059870013"
     },
     "user_tz": -330
    },
    "id": "0ej-9Wy2EF-X",
    "outputId": "43d51655-9527-42fc-d1db-262755387ffa"
   },
   "outputs": [],
   "source": [
    "# convert class vectors to binary class matrices\n",
    "trainset['Y'] = keras.utils.to_categorical(trainset['Y'], num_classes)"
   ]
  },
  {
   "cell_type": "code",
   "execution_count": null,
   "metadata": {
    "colab": {},
    "colab_type": "code",
    "id": "Nd3lje75DJnD"
   },
   "outputs": [],
   "source": [
    "print(trainset['Y'].shape)"
   ]
  },
  {
   "cell_type": "code",
   "execution_count": null,
   "metadata": {
    "colab": {},
    "colab_type": "code",
    "id": "2E0mPHTSG8YI"
   },
   "outputs": [],
   "source": [
    "print(trainset['Y'].shape)\n",
    "print(trainset['Y'][2606,:])\n",
    "\n",
    "#2606 are the number of images starting from 0 to 2606 (A total of 2607 Number of Images if counted from 1)"
   ]
  },
  {
   "cell_type": "code",
   "execution_count": null,
   "metadata": {
    "colab": {
     "base_uri": "https://localhost:8080/",
     "height": 34
    },
    "colab_type": "code",
    "executionInfo": {
     "elapsed": 1130,
     "status": "ok",
     "timestamp": 1549195103988,
     "user": {
      "displayName": "Harsh Patel",
      "photoUrl": "https://lh4.googleusercontent.com/-xVEOvhAYCwI/AAAAAAAAAAI/AAAAAAAAAAc/m8NWBboPeYY/s64/photo.jpg",
      "userId": "17018506043059870013"
     },
     "user_tz": -330
    },
    "id": "IixP2uReHCEI",
    "outputId": "39410e01-f5cc-4ed7-b60a-257f0a460551"
   },
   "outputs": [],
   "source": [
    "print(trainset['X'].shape[0], 'train samples')"
   ]
  },
  {
   "cell_type": "markdown",
   "metadata": {
    "colab": {},
    "colab_type": "code",
    "id": "QWVcwIrOHGH7"
   },
   "source": [
    "# Setting Model Input Image Dimensions"
   ]
  },
  {
   "cell_type": "code",
   "execution_count": null,
   "metadata": {
    "colab": {},
    "colab_type": "code",
    "id": "QWVcwIrOHGH7"
   },
   "outputs": [],
   "source": [
    "# input image dimensions\n",
    "img_rows, img_cols = 150, 150\n",
    "input_shape = (img_rows, img_cols, 3)"
   ]
  },
  {
   "cell_type": "markdown",
   "metadata": {
    "colab": {
     "base_uri": "https://localhost:8080/",
     "height": 50
    },
    "colab_type": "code",
    "executionInfo": {
     "elapsed": 994,
     "status": "ok",
     "timestamp": 1549195104388,
     "user": {
      "displayName": "Harsh Patel",
      "photoUrl": "https://lh4.googleusercontent.com/-xVEOvhAYCwI/AAAAAAAAAAI/AAAAAAAAAAc/m8NWBboPeYY/s64/photo.jpg",
      "userId": "17018506043059870013"
     },
     "user_tz": -330
    },
    "id": "YEUKrgI3HkHh",
    "outputId": "1245ed08-7dda-4719-87d6-e546f792ba82"
   },
   "source": [
    "# Testing Random Image"
   ]
  },
  {
   "cell_type": "code",
   "execution_count": null,
   "metadata": {
    "colab": {
     "base_uri": "https://localhost:8080/",
     "height": 50
    },
    "colab_type": "code",
    "executionInfo": {
     "elapsed": 994,
     "status": "ok",
     "timestamp": 1549195104388,
     "user": {
      "displayName": "Harsh Patel",
      "photoUrl": "https://lh4.googleusercontent.com/-xVEOvhAYCwI/AAAAAAAAAAI/AAAAAAAAAAc/m8NWBboPeYY/s64/photo.jpg",
      "userId": "17018506043059870013"
     },
     "user_tz": -330
    },
    "id": "YEUKrgI3HkHh",
    "outputId": "1245ed08-7dda-4719-87d6-e546f792ba82"
   },
   "outputs": [],
   "source": [
    "# Trainset image\n",
    "#index=2606\n",
    "index = np.random.randint(2606)\n",
    "M1 = trainset['X'][index,:,:,:]\n",
    "plt.imshow(M1)\n",
    "plt.show()\n",
    "y = label[index,:]\n",
    "\n",
    "if y==0:\n",
    "  classes='E'\n",
    "elif y==1:\n",
    "  classes='B'\n",
    "elif y==2:\n",
    "  classes='K'\n",
    "elif y==3:\n",
    "  classes='N'\n",
    "elif y==4:\n",
    "  classes='P'\n",
    "elif y==5:\n",
    "  classes='Q'\n",
    "elif y==6:\n",
    "  classes='R'\n",
    "elif y==7:\n",
    "  classes='b'\n",
    "elif y==8:\n",
    "  classes='k'\n",
    "elif y==9:\n",
    "  classes='n'\n",
    "elif y==10:\n",
    "  classes='p'\n",
    "elif y==11:\n",
    "  classes='q'\n",
    "else:\n",
    "  classes='r'\n",
    "\n",
    "print('Label:',classes)"
   ]
  },
  {
   "cell_type": "markdown",
   "metadata": {
    "colab": {
     "base_uri": "https://localhost:8080/",
     "height": 50
    },
    "colab_type": "code",
    "executionInfo": {
     "elapsed": 994,
     "status": "ok",
     "timestamp": 1549195104388,
     "user": {
      "displayName": "Harsh Patel",
      "photoUrl": "https://lh4.googleusercontent.com/-xVEOvhAYCwI/AAAAAAAAAAI/AAAAAAAAAAc/m8NWBboPeYY/s64/photo.jpg",
      "userId": "17018506043059870013"
     },
     "user_tz": -330
    },
    "id": "YEUKrgI3HkHh",
    "outputId": "1245ed08-7dda-4719-87d6-e546f792ba82"
   },
   "source": [
    "# Model Layers"
   ]
  },
  {
   "cell_type": "code",
   "execution_count": null,
   "metadata": {
    "colab": {
     "base_uri": "https://localhost:8080/",
     "height": 34
    },
    "colab_type": "code",
    "executionInfo": {
     "elapsed": 839,
     "status": "ok",
     "timestamp": 1549195104390,
     "user": {
      "displayName": "Harsh Patel",
      "photoUrl": "https://lh4.googleusercontent.com/-xVEOvhAYCwI/AAAAAAAAAAI/AAAAAAAAAAc/m8NWBboPeYY/s64/photo.jpg",
      "userId": "17018506043059870013"
     },
     "user_tz": -330
    },
    "id": "2m6EB1waITkj",
    "outputId": "57bbe5fb-7c7a-4129-82b2-8a79b6b5ca3f"
   },
   "outputs": [],
   "source": [
    "model = Sequential()\n",
    "model.add(BatchNormalization(input_shape = input_shape))\n",
    "model.add(Conv2D(32, (3, 3), padding = 'valid'))\n",
    "model.add(Activation('relu'))\n",
    "model.add(Conv2D(32, (3, 3), padding = 'valid'))\n",
    "model.add(Activation('relu'))\n",
    "model.add(MaxPooling2D(pool_size=(2, 2), strides = None, padding = 'valid'))\n",
    "model.add(Dropout(0.25))\n",
    "\n",
    "model.add(Conv2D(64, (3, 3), padding = 'valid'))\n",
    "model.add(Activation('relu'))\n",
    "model.add(Conv2D(64, (3, 3), padding = 'valid'))\n",
    "model.add(Activation('relu'))\n",
    "model.add(MaxPooling2D(pool_size=(2, 2), strides = None, padding = 'valid'))\n",
    "model.add(Dropout(0.25))\n",
    "\n",
    "model.add(Conv2D(128, (3, 3), padding = 'valid'))\n",
    "model.add(Activation('relu'))\n",
    "model.add(Conv2D(128, (3, 3), padding = 'valid'))\n",
    "model.add(Activation('relu'))\n",
    "model.add(MaxPooling2D(pool_size=(2, 2), strides = None, padding = 'valid'))\n",
    "model.add(Dropout(0.25))\n",
    "\n",
    "model.add(Flatten())\n",
    "model.add(Dense(128))\n",
    "model.add(Activation('relu'))\n",
    "model.add(Dropout(0.5))\n",
    "model.add(Dense(num_classes))\n",
    "model.add(Activation('softmax'))\n",
    "\n",
    "# initiate RMSprop optimizer\n",
    "opt = keras.optimizers.Adadelta(lr=1.0, rho=0.95, epsilon=None, decay=0.0)\n",
    "\n",
    "# Let's train the model using RMSprop\n",
    "model.compile(loss='categorical_crossentropy',\n",
    "              optimizer=opt,\n",
    "              metrics=['accuracy'])\n",
    "model.summary()"
   ]
  },
  {
   "cell_type": "markdown",
   "metadata": {
    "colab": {},
    "colab_type": "code",
    "id": "orhtce1TIOzU"
   },
   "source": [
    "# Start Training the Model"
   ]
  },
  {
   "cell_type": "code",
   "execution_count": null,
   "metadata": {
    "colab": {},
    "colab_type": "code",
    "id": "orhtce1TIOzU"
   },
   "outputs": [],
   "source": [
    "from keras.preprocessing.image import ImageDataGenerator\n",
    "\n",
    "datagen = ImageDataGenerator(\n",
    "        rotation_range=40,\n",
    "        width_shift_range=0.2,\n",
    "        height_shift_range=0.2,\n",
    "        shear_range=0.2,\n",
    "        zoom_range=0.2,\n",
    "        horizontal_flip=True,\n",
    "        fill_mode='nearest')\n",
    "\n",
    "datagen.fit(trainset['X'])\n",
    "\n",
    "model.fit_generator(datagen.flow(trainset['X'], trainset['Y'], batch_size=32),\n",
    "                    steps_per_epoch=len(trainset['X']) / 32, epochs=epochs)"
   ]
  },
  {
   "cell_type": "markdown",
   "metadata": {
    "colab": {
     "base_uri": "https://localhost:8080/",
     "height": 366
    },
    "colab_type": "code",
    "executionInfo": {
     "elapsed": 1018,
     "status": "ok",
     "timestamp": 1549195233216,
     "user": {
      "displayName": "Harsh Patel",
      "photoUrl": "https://lh4.googleusercontent.com/-xVEOvhAYCwI/AAAAAAAAAAI/AAAAAAAAAAc/m8NWBboPeYY/s64/photo.jpg",
      "userId": "17018506043059870013"
     },
     "user_tz": -330
    },
    "id": "s0IY_XEUHlp2",
    "outputId": "7c4e7e57-85d9-4ac6-f493-45dc7dfced86"
   },
   "source": [
    "# Saving Trained Model to Directory"
   ]
  },
  {
   "cell_type": "code",
   "execution_count": null,
   "metadata": {
    "colab": {
     "base_uri": "https://localhost:8080/",
     "height": 366
    },
    "colab_type": "code",
    "executionInfo": {
     "elapsed": 1018,
     "status": "ok",
     "timestamp": 1549195233216,
     "user": {
      "displayName": "Harsh Patel",
      "photoUrl": "https://lh4.googleusercontent.com/-xVEOvhAYCwI/AAAAAAAAAAI/AAAAAAAAAAc/m8NWBboPeYY/s64/photo.jpg",
      "userId": "17018506043059870013"
     },
     "user_tz": -330
    },
    "id": "s0IY_XEUHlp2",
    "outputId": "7c4e7e57-85d9-4ac6-f493-45dc7dfced86"
   },
   "outputs": [],
   "source": [
    "save_dir = os.path.join(os.getcwd(), 'saved_models')\n",
    "model_name = 'trained_model_final_bs32_225_dg_6.h5'\n",
    "\n",
    "if not os.path.isdir(save_dir):\n",
    "    os.makedirs(save_dir)\n",
    "    \n",
    "model_path = os.path.join(save_dir, model_name)\n",
    "model.save(model_path)\n",
    "print('Saved trained model at %s ' % model_path)"
   ]
  }
 ],
 "metadata": {
  "accelerator": "TPU",
  "colab": {
   "collapsed_sections": [],
   "name": "Pieces.ipynb",
   "provenance": [],
   "version": "0.3.2"
  },
  "kernelspec": {
   "display_name": "Python 3 (ipykernel)",
   "language": "python",
   "name": "python3"
  },
  "language_info": {
   "codemirror_mode": {
    "name": "ipython",
    "version": 3
   },
   "file_extension": ".py",
   "mimetype": "text/x-python",
   "name": "python",
   "nbconvert_exporter": "python",
   "pygments_lexer": "ipython3",
   "version": "3.7.11"
  }
 },
 "nbformat": 4,
 "nbformat_minor": 4
}
